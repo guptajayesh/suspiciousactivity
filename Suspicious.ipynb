{
 "cells": [
  {
   "cell_type": "code",
   "execution_count": 3,
   "metadata": {},
   "outputs": [
    {
     "name": "stderr",
     "output_type": "stream",
     "text": [
      "Using TensorFlow backend.\n"
     ]
    }
   ],
   "source": [
    "import skvideo.io\n",
    "from c3d import C3D\n",
    "from keras.models import Model\n",
    "from sports1M_utils import preprocess_input, decode_predictions"
   ]
  },
  {
   "cell_type": "code",
   "execution_count": 4,
   "metadata": {
    "scrolled": true
   },
   "outputs": [],
   "source": [
    "base_model = C3D(weights='sports1M')\n",
    "model = Model(inputs=base_model.input, outputs=base_model.get_layer('fc6').output)"
   ]
  },
  {
   "cell_type": "code",
   "execution_count": 71,
   "metadata": {},
   "outputs": [],
   "source": [
    "base_model.save(\"c3d.h5\")"
   ]
  },
  {
   "cell_type": "code",
   "execution_count": 65,
   "metadata": {},
   "outputs": [],
   "source": [
    "vid_path = 'test2/'\n",
    "vid = skvideo.io.vread(vid_path)\n",
    "length = vid.shape[0]\n",
    "video = vid[int((length*2)/5):int((length*4)/5)]\n",
    "x = preprocess_input(vid)"
   ]
  },
  {
   "cell_type": "code",
   "execution_count": 43,
   "metadata": {},
   "outputs": [
    {
     "name": "stdout",
     "output_type": "stream",
     "text": [
      "(56, 360, 640, 3)\n"
     ]
    }
   ],
   "source": [
    "print(video.shape)"
   ]
  },
  {
   "cell_type": "code",
   "execution_count": 5,
   "metadata": {},
   "outputs": [
    {
     "name": "stdout",
     "output_type": "stream",
     "text": [
      "573\n",
      "1147\n",
      "1434\n"
     ]
    }
   ],
   "source": [
    "print(int((length*2)/5))\n",
    "print(int((length*4)/5))\n",
    "print(length)"
   ]
  },
  {
   "cell_type": "code",
   "execution_count": 7,
   "metadata": {},
   "outputs": [],
   "source": [
    "from PIL import Image"
   ]
  },
  {
   "cell_type": "code",
   "execution_count": 62,
   "metadata": {},
   "outputs": [
    {
     "data": {
      "text/html": [
       "<video src=\"test3/Normal_Videos_317_x264.mp4\" controls  >\n",
       "      Your browser does not support the <code>video</code> element.\n",
       "    </video>"
      ],
      "text/plain": [
       "<IPython.core.display.Video object>"
      ]
     },
     "execution_count": 62,
     "metadata": {},
     "output_type": "execute_result"
    }
   ],
   "source": [
    "from IPython.display import Video\n",
    "Video(vid_path)\n"
   ]
  },
  {
   "cell_type": "code",
   "execution_count": 37,
   "metadata": {},
   "outputs": [],
   "source": [
    "import cv2 \n",
    "  \n",
    "# Function to extract frames \n",
    "def FrameCapture(path): \n",
    "      \n",
    "    # Path to video file \n",
    "    vidObj = cv2.VideoCapture(path) \n",
    "    # Used as counter variable \n",
    "    count = 0  \n",
    "    # checks whether frames were extracted \n",
    "    success = 1  \n",
    "    while success:   \n",
    "        # vidObj object calls read \n",
    "        # function extract frames \n",
    "        success, image = vidObj.read()   \n",
    "        # Saves the frames with frame-count\n",
    "        if count == int(length/2):\n",
    "            cv2.imwrite(\"extracted/framed.jpg\", image)   \n",
    "        count += 1"
   ]
  },
  {
   "cell_type": "code",
   "execution_count": 66,
   "metadata": {},
   "outputs": [],
   "source": [
    "FrameCapture(vid_path)"
   ]
  },
  {
   "cell_type": "code",
   "execution_count": 67,
   "metadata": {},
   "outputs": [],
   "source": [
    "features = model.predict(x)"
   ]
  },
  {
   "cell_type": "code",
   "execution_count": 11,
   "metadata": {},
   "outputs": [
    {
     "ename": "FileNotFoundError",
     "evalue": "[Errno 2] No such file or directory: ''",
     "output_type": "error",
     "traceback": [
      "\u001b[0;31m---------------------------------------------------------------------------\u001b[0m",
      "\u001b[0;31mFileNotFoundError\u001b[0m                         Traceback (most recent call last)",
      "\u001b[0;32m<ipython-input-11-9f56a7234997>\u001b[0m in \u001b[0;36m<module>\u001b[0;34m\u001b[0m\n\u001b[1;32m      1\u001b[0m \u001b[0;32mimport\u001b[0m \u001b[0mos\u001b[0m\u001b[0;34m\u001b[0m\u001b[0;34m\u001b[0m\u001b[0m\n\u001b[0;32m----> 2\u001b[0;31m \u001b[0ml\u001b[0m \u001b[0;34m=\u001b[0m \u001b[0mos\u001b[0m\u001b[0;34m.\u001b[0m\u001b[0mlistdir\u001b[0m\u001b[0;34m(\u001b[0m\u001b[0;34m''\u001b[0m\u001b[0;34m)\u001b[0m\u001b[0;34m\u001b[0m\u001b[0;34m\u001b[0m\u001b[0m\n\u001b[0m",
      "\u001b[0;31mFileNotFoundError\u001b[0m: [Errno 2] No such file or directory: ''"
     ]
    }
   ],
   "source": [
    "import os\n",
    "l = os.listdir('')"
   ]
  },
  {
   "cell_type": "code",
   "execution_count": 41,
   "metadata": {},
   "outputs": [],
   "source": [
    "lbls = {}\n",
    "lbls[0] = 'Explosion'\n",
    "lbls[1] = 'Arrest'\n",
    "lbls[2] = 'Assault'\n",
    "lbls[3] = 'Burglary'\n",
    "lbls[4] = 'Abuse'\n",
    "lbls[5] = 'Fighting'\n",
    "lbls[6] = 'normal'\n",
    "lbls[7] = 'Arson'\n"
   ]
  },
  {
   "cell_type": "code",
   "execution_count": 13,
   "metadata": {},
   "outputs": [],
   "source": [
    "import pickle\n",
    "filename = 'finalized_model.sav'\n",
    "loaded_model = pickle.load(open(filename, 'rb'))"
   ]
  },
  {
   "cell_type": "code",
   "execution_count": 68,
   "metadata": {},
   "outputs": [
    {
     "name": "stdout",
     "output_type": "stream",
     "text": [
      "6\n",
      "normal\n",
      "[6]\n"
     ]
    }
   ],
   "source": [
    "prediction_ans = loaded_model.predict(features)\n",
    "\n",
    "print(prediction_ans[0])\n",
    "print(lbls[prediction_ans[0]])\n",
    "print(prediction_ans)"
   ]
  },
  {
   "cell_type": "code",
   "execution_count": 15,
   "metadata": {},
   "outputs": [],
   "source": [
    "def upper(imagePath):\n",
    "    from google.cloud import storage\n",
    "    from firebase import firebase\n",
    "    import os\n",
    "    import random\n",
    "    nm = random.randint(1,100000)\n",
    "    os.environ[\"GOOGLE_APPLICATION_CREDENTIALS\"]=\"sihproject-e8cc7-7fb9245f560e.json\"\n",
    "    firebase = firebase.FirebaseApplication('https://sihproject-e8cc7.firebaseio.com//')\n",
    "    client = storage.Client()\n",
    "    bucket = client.get_bucket('sihproject-e8cc7.appspot.com')\n",
    "# posting to firebase storage\n",
    "    imageBlob = bucket.blob(\"/\")\n",
    "# imagePath = [os.path.join(self.path,f) for f in os.listdir(self.path)]\n",
    "    imageBlob = bucket.blob(str(nm))\n",
    "    imageBlob.upload_from_filename(imagePath)\n",
    "    url_img = imageBlob.public_url\n",
    "    return url_img"
   ]
  },
  {
   "cell_type": "code",
   "execution_count": 16,
   "metadata": {},
   "outputs": [],
   "source": [
    "def poster(url_img):\n",
    "    import json\n",
    "    import requests\n",
    "    import time\n",
    "    postData= dict()\n",
    "    postData[\"camera_id\"]='ABC10'\n",
    "    postData[\"activity_name\"]= lbls[prediction_ans[0]]\n",
    "    postData[\"screenshot_url\"]=url_img\n",
    "    postData[\"start_time\"]=\"2020-01-20T10:00:28\"\n",
    "    postData[\"end_time\"]=\"2020-01-20T10:00:28\"\n",
    "    headers = {'content-type': 'application/json'}\n",
    "    r = requests.post('https://safevision.herokuapp.com/api/activity/', data=json.dumps(postData),headers=headers)\n",
    "    if r.status_code == 200:\n",
    "        print(\"Request sent\")\n",
    "    else:\n",
    "        print(r.status_code)\n",
    "    "
   ]
  },
  {
   "cell_type": "code",
   "execution_count": 63,
   "metadata": {},
   "outputs": [
    {
     "data": {
      "text/html": [
       "<video src=\"test3/Normal_Videos_317_x264.mp4\" controls  >\n",
       "      Your browser does not support the <code>video</code> element.\n",
       "    </video>"
      ],
      "text/plain": [
       "<IPython.core.display.Video object>"
      ]
     },
     "execution_count": 63,
     "metadata": {},
     "output_type": "execute_result"
    }
   ],
   "source": [
    "from IPython.display import Video\n",
    "Video(vid_path)\n"
   ]
  },
  {
   "cell_type": "code",
   "execution_count": 69,
   "metadata": {},
   "outputs": [
    {
     "name": "stdout",
     "output_type": "stream",
     "text": [
      "6\n",
      "Predicted:normal\n",
      "[6]\n"
     ]
    }
   ],
   "source": [
    "prediction_ans = loaded_model.predict(features)\n",
    "\n",
    "print(prediction_ans[0])\n",
    "print(\"Predicted:\" + lbls[prediction_ans[0]])\n",
    "print(prediction_ans)"
   ]
  },
  {
   "cell_type": "code",
   "execution_count": 70,
   "metadata": {},
   "outputs": [],
   "source": [
    "if prediction_ans[0] != 6:\n",
    "    path = upper(\"extracted/framed.jpg\")\n",
    "    poster(path)"
   ]
  },
  {
   "cell_type": "code",
   "execution_count": 18,
   "metadata": {},
   "outputs": [
    {
     "name": "stdout",
     "output_type": "stream",
     "text": [
      "https://storage.googleapis.com/sihproject-e8cc7.appspot.com/59699\n"
     ]
    }
   ],
   "source": [
    "print(path)"
   ]
  },
  {
   "cell_type": "code",
   "execution_count": 62,
   "metadata": {},
   "outputs": [
    {
     "name": "stdout",
     "output_type": "stream",
     "text": [
      "(550, 4096)\n",
      "(550,)\n"
     ]
    }
   ],
   "source": [
    "import numpy as np\n",
    "data_x = np.load('datax.npy')\n",
    "data_y = np.load('datay.npy')\n",
    "\n",
    "print(data_x.shape)\n",
    "print(data_y.shape)\n",
    "\n"
   ]
  },
  {
   "cell_type": "code",
   "execution_count": 63,
   "metadata": {},
   "outputs": [],
   "source": [
    "from sklearn.svm import LinearSVC"
   ]
  },
  {
   "cell_type": "code",
   "execution_count": 64,
   "metadata": {},
   "outputs": [
    {
     "name": "stderr",
     "output_type": "stream",
     "text": [
      "/Library/Frameworks/Python.framework/Versions/3.7/lib/python3.7/site-packages/sklearn/svm/base.py:929: ConvergenceWarning: Liblinear failed to converge, increase the number of iterations.\n",
      "  \"the number of iterations.\", ConvergenceWarning)\n"
     ]
    },
    {
     "data": {
      "text/plain": [
       "LinearSVC(C=1.0, class_weight=None, dual=True, fit_intercept=True,\n",
       "          intercept_scaling=1, loss='squared_hinge', max_iter=1000,\n",
       "          multi_class='ovr', penalty='l2', random_state=None, tol=0.0001,\n",
       "          verbose=0)"
      ]
     },
     "execution_count": 64,
     "metadata": {},
     "output_type": "execute_result"
    }
   ],
   "source": [
    "svm = LinearSVC()\n",
    "svm.fit(data_x,data_y)"
   ]
  },
  {
   "cell_type": "code",
   "execution_count": 65,
   "metadata": {},
   "outputs": [],
   "source": [
    "from sklearn.metrics import accuracy_score"
   ]
  },
  {
   "cell_type": "code",
   "execution_count": 66,
   "metadata": {},
   "outputs": [],
   "source": [
    "preds = svm.predict(data_x)"
   ]
  },
  {
   "cell_type": "code",
   "execution_count": 15,
   "metadata": {},
   "outputs": [],
   "source": [
    "import pickle"
   ]
  },
  {
   "cell_type": "code",
   "execution_count": 16,
   "metadata": {},
   "outputs": [],
   "source": [
    "filename = 'finalized_model.sav'\n",
    "pickle.dump(svm, open(filename, 'wb'))"
   ]
  }
 ],
 "metadata": {
  "kernelspec": {
   "display_name": "Python 3",
   "language": "python",
   "name": "python3"
  },
  "language_info": {
   "codemirror_mode": {
    "name": "ipython",
    "version": 3
   },
   "file_extension": ".py",
   "mimetype": "text/x-python",
   "name": "python",
   "nbconvert_exporter": "python",
   "pygments_lexer": "ipython3",
   "version": "3.7.4"
  }
 },
 "nbformat": 4,
 "nbformat_minor": 2
}
